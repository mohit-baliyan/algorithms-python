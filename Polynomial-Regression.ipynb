{
 "cells": [
  {
   "cell_type": "code",
   "execution_count": 1,
   "metadata": {},
   "outputs": [],
   "source": [
    "# Importing libraries\n",
    "\n",
    "import numpy as np\n",
    "\n",
    "import pandas as pd\n",
    "\n",
    "from sklearn.model_selection import train_test_split\n",
    "\n",
    "import matplotlib.pyplot as plt\n",
    "\n",
    "from sklearn.linear_model import LinearRegression"
   ]
  },
  {
   "cell_type": "code",
   "execution_count": 2,
   "metadata": {},
   "outputs": [],
   "source": [
    "# driver code\n",
    "\n",
    "def main() :\n",
    "    \n",
    "    # Create dataset\n",
    "    \n",
    "    X = np.array( [ [1], [2], [3], [4], [5], [6], [7] ] )\n",
    "    \n",
    "    Y = np.array( [ 45000, 50000, 60000, 80000, 110000, 150000, 200000 ] )\n",
    "    \n",
    "    # Model training\n",
    "    \n",
    "    model = LinearRegression()\n",
    "\n",
    "    model.fit( X, Y )\n",
    "    \n",
    "    # Prediction\n",
    "\n",
    "    Y_pred = model.predict( X )\n",
    "    \n",
    "    # Visualization \n",
    "    \n",
    "    plt.scatter( X, Y, color = 'blue' )\n",
    "    \n",
    "    plt.plot( X, Y_pred, color = 'orange' )\n",
    "    \n",
    "    plt.title( 'X vs Y' )\n",
    "    \n",
    "    plt.xlabel( 'X' )\n",
    "    \n",
    "    plt.ylabel( 'Y' )\n",
    "    \n",
    "    plt.show()"
   ]
  },
  {
   "cell_type": "code",
   "execution_count": 3,
   "metadata": {},
   "outputs": [
    {
     "data": {
      "image/png": "[encoded data removed]",
      "text/plain": [
       "<Figure size 432x288 with 1 Axes>"
      ]
     },
     "metadata": {
      "needs_background": "light"
     },
     "output_type": "display_data"
    }
   ],
   "source": [
    "if __name__ == \"__main__\" : \n",
    "    \n",
    "    main()"
   ]
  },
  {
   "cell_type": "code",
   "execution_count": 4,
   "metadata": {},
   "outputs": [],
   "source": [
    "import math"
   ]
  },
  {
   "cell_type": "code",
   "execution_count": 5,
   "metadata": {},
   "outputs": [],
   "source": [
    "# Univariate Polynomial Regression\n",
    "\n",
    "class PolynomailRegression() :\n",
    "    \n",
    "    def __init__( self, degree, learning_rate, iterations ) :\n",
    "        \n",
    "        self.degree = degree\n",
    "        \n",
    "        self.learning_rate = learning_rate\n",
    "        \n",
    "        self.iterations = iterations\n",
    "        \n",
    "    # function to tranform X\n",
    "    \n",
    "    def transform( self, X ) :\n",
    "        \n",
    "        # initialize X_transform\n",
    "        \n",
    "        X_transform = np.ones( ( self.m, 1 ) )\n",
    "        \n",
    "        j = 0\n",
    "    \n",
    "        for j in range( self.degree + 1 ) :\n",
    "            \n",
    "            if j != 0 :\n",
    "                \n",
    "                x_pow = np.power( X, j )\n",
    "                \n",
    "                # append x_pow to X_transform\n",
    "                \n",
    "                X_transform = np.append( X_transform, x_pow.reshape( -1, 1 ), axis = 1 )\n",
    "\n",
    "        return X_transform   \n",
    "    \n",
    "    # function to normalize X_tranform\n",
    "    \n",
    "    def normalize( self, X ) :\n",
    "        \n",
    "        X[:, 1:] = ( X[:, 1:] - np.mean( X[:, 1:], axis = 0 ) ) / np.std( X[:, 1:], axis = 0 )\n",
    "        \n",
    "        return X\n",
    "        \n",
    "    # model training\n",
    "    \n",
    "    def fit( self, X, Y ) :\n",
    "        \n",
    "        self.X = X\n",
    "    \n",
    "        self.Y = Y\n",
    "    \n",
    "        self.m, self.n = self.X.shape\n",
    "    \n",
    "        # weight initialization\n",
    "    \n",
    "        self.W = np.zeros( self.degree + 1 )\n",
    "        \n",
    "        # tranform X for polynomial  h( x ) = w0 * x^0 + w1 * x^1 + w2 * x^2 + ........+ wn * x^n\n",
    "        \n",
    "        X_transform = self.transform( self.X )\n",
    "        \n",
    "        # normalize X_transform\n",
    "        \n",
    "        X_normalize = self.normalize( X_transform )\n",
    "                \n",
    "        # gradient descent learning\n",
    "    \n",
    "        for i in range( self.iterations ) :\n",
    "            \n",
    "            h = self.predict( self.X )\n",
    "        \n",
    "            error = h - self.Y\n",
    "            \n",
    "            # update weights \n",
    "        \n",
    "            self.W = self.W - self.learning_rate * ( 1 / self.m ) * np.dot( X_normalize.T, error ) \n",
    "        \n",
    "        return self\n",
    "    \n",
    "    # predict \n",
    "    \n",
    "    def predict( self, X ) :\n",
    "     \n",
    "        # tranform X for polynomial  h( x ) = w0 * x^0 + w1 * x^1 + w2 * x^2 + ........+ wn * x^n\n",
    "        \n",
    "        X_transform = self.transform( X )\n",
    "        \n",
    "        X_normalize = self.normalize( X_transform )\n",
    "        \n",
    "        return np.dot( X_transform, self.W )"
   ]
  },
  {
   "cell_type": "code",
   "execution_count": 6,
   "metadata": {},
   "outputs": [],
   "source": [
    "def main() :    \n",
    "    \n",
    "    # Create dataset\n",
    "    \n",
    "    X = np.array( [ [1], [2], [3], [4], [5], [6], [7] ] )\n",
    "    \n",
    "    Y = np.array( [ 45000, 50000, 60000, 80000, 110000, 150000, 200000 ] )\n",
    " \n",
    "    # model training\n",
    "    \n",
    "    model = PolynomailRegression( degree = 2, learning_rate = 0.01, iterations = 500 )\n",
    "\n",
    "    model.fit( X, Y )\n",
    "    \n",
    "    # Prediction on training set\n",
    "\n",
    "    Y_pred = model.predict( X )\n",
    "    \n",
    "    # Visualization \n",
    "    \n",
    "    plt.scatter( X, Y, color = 'blue' )\n",
    "    \n",
    "    plt.plot( X, Y_pred, color = 'orange' )\n",
    "    \n",
    "    plt.title( 'X vs Y' )\n",
    "    \n",
    "    plt.xlabel( 'X' )\n",
    "    \n",
    "    plt.ylabel( 'Y' )\n",
    "    \n",
    "    plt.show()"
   ]
  },
  {
   "cell_type": "code",
   "execution_count": 7,
   "metadata": {},
   "outputs": [
    {
     "data": {
      "image/png": "[encoded data removed]",
      "text/plain": [
       "<Figure size 432x288 with 1 Axes>"
      ]
     },
     "metadata": {
      "needs_background": "light"
     },
     "output_type": "display_data"
    }
   ],
   "source": [
    "if __name__ == \"__main__\" : \n",
    "    \n",
    "    main()"
   ]
  }
 ],
 "metadata": {
  "kernelspec": {
   "display_name": "Python 3",
   "language": "python",
   "name": "python3"
  },
  "language_info": {
   "codemirror_mode": {
    "name": "ipython",
    "version": 3
   },
   "file_extension": ".py",
   "mimetype": "text/x-python",
   "name": "python",
   "nbconvert_exporter": "python",
   "pygments_lexer": "ipython3",
   "version": "3.7.6"
  }
 },
 "nbformat": 4,
 "nbformat_minor": 4
}
